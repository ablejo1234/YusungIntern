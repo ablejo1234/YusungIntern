{
  "nbformat": 4,
  "nbformat_minor": 0,
  "metadata": {
    "colab": {
      "provenance": []
    },
    "kernelspec": {
      "name": "python3",
      "display_name": "Python 3"
    },
    "language_info": {
      "name": "python"
    }
  },
  "cells": [
    {
      "cell_type": "markdown",
      "source": [
        "\n",
        "\n",
        "*   NLP 토픽 모델링의 대표적인 알고리즘\n",
        "*   문서의 집합들을 바탕으로 하며, 단어가 특정 토픽에 존재할 확률과 문서에 특정 토픽이 존재할 확률을 결합확률로 추정하여 문서 내에 어떤 토픽들이 존재하는지 알아내는 알고리즘\n",
        "\n"
      ],
      "metadata": {
        "id": "mrCnRiOzjcjv"
      }
    },
    {
      "cell_type": "code",
      "execution_count": null,
      "metadata": {
        "id": "kfKsT2N8jLNU"
      },
      "outputs": [],
      "source": [
        "import gensim\n",
        "from gensim import corpora\n",
        "import pyLDAvis.gensim"
      ]
    },
    {
      "cell_type": "code",
      "source": [
        "def ldamodel(df, n=4):\n",
        "    # 토큰 추출\n",
        "    token = df['token']\n",
        "    dictionary = corpora.Dictionary(token)\n",
        "    corpus = [dictionary.doc2bow(text) for text in token]\n",
        "    \n",
        "    #LDA 모델 훈련시키기\n",
        "    ldamodel = gensim.models.ldamodel.LdaModel(corpus, num_topics = n, id2word=dictionary, passes=15)\n",
        "    pyLDAvis.enable_notebook()\n",
        "    vis = pyLDAvis.gensim.prepare(ldamodel, corpus, dictionary)\n",
        "    return vis"
      ],
      "metadata": {
        "id": "LdcCp4a3qQ6p"
      },
      "execution_count": null,
      "outputs": []
    },
    {
      "cell_type": "markdown",
      "source": [
        "거래가 상승 폭\\\n",
        "거래량, 인구 유입 정도 고려\\\n",
        "8.2 부동산 정책 시기\\\n",
        "전월세 거래"
      ],
      "metadata": {
        "id": "ZHyQQxPKqgDE"
      }
    },
    {
      "cell_type": "code",
      "source": [
        "pyLDAvis.display(ldamodel(df_2))\n",
        "pyLDAvis.display(ldamodel(df_3, n=3))\n",
        "pyLDAvis.display(ldamodel(df_8))\n",
        "pyLDAvis.display(ldamodel(df_10, n=3))"
      ],
      "metadata": {
        "id": "dtRm_5eIqaKz"
      },
      "execution_count": null,
      "outputs": []
    }
  ]
}