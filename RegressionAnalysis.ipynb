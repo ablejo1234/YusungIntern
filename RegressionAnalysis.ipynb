{
  "nbformat": 4,
  "nbformat_minor": 0,
  "metadata": {
    "colab": {
      "provenance": []
    },
    "kernelspec": {
      "name": "python3",
      "display_name": "Python 3"
    },
    "language_info": {
      "name": "python"
    }
  },
  "cells": [
    {
      "cell_type": "markdown",
      "source": [
        "##격자 데이터 전처리"
      ],
      "metadata": {
        "id": "Atm7D8LxsbzV"
      }
    },
    {
      "cell_type": "code",
      "execution_count": null,
      "metadata": {
        "id": "gqOETFfmsHq_"
      },
      "outputs": [],
      "source": [
        "# 격자데이터 읍면동별로 분류\n",
        "df = gpd.sjoin(geo, data32, op='intersects', how='left')\n",
        "dff = df.groupby('id').count().reset_index()\n",
        "fine = dff[dff['left'] == 1][['id','left']]#하나씩으로 정상적으로 나눠진 데이터\n",
        "fine = pd.merge(fine, df, on='id')[['id','ADM_DR_NM','left_x']]\n",
        "dff = dff[dff['left']>1][['id','left']] #두개 이상이 할당된 데이터\n",
        "df2 = pd.merge(dff, df, on='id')[['id','ADM_DR_NM','left_x']]\n",
        "\n",
        "# 조치원 부분만 처리\n",
        "eup = df2[df2['ADM_DR_NM'].str[3] == '읍']\n",
        "a = eup['id'].unique().tolist()\n",
        "eup = df2[df2['id'].isin(a)]\n",
        "df2 = df2.drop(eup.index)\n",
        "eup = eup[eup['ADM_DR_NM'].str[3] == '읍']\n",
        "\n",
        "\n",
        "# 중복되는 읍면동 drop\n",
        "dropdu = df2[['id','left_x']].drop_duplicates().index\n",
        "df2 = df2.loc[dropdu,:]\n",
        "done = pd.concat([fine, df2, eup])\n",
        "emdgeo = pd.merge(done,geo, on='id')"
      ]
    },
    {
      "cell_type": "code",
      "source": [
        "# 읍면동 지역으로 나누어서 그리드 확인\n",
        "eup = emdgeo[emdgeo['ADM_DR_NM'].str[3] == '읍']\n",
        "myun = emdgeo[emdgeo['ADM_DR_NM'].str[2] == '면']\n",
        "dong = emdgeo[emdgeo['ADM_DR_NM'].str[2] == '동']\n",
        "\n",
        "print('읍: ', len(eup))\n",
        "print('면: ', len(myun))\n",
        "print('동: ', len(dong))"
      ],
      "metadata": {
        "id": "Kyd_oBmTsgjB"
      },
      "execution_count": null,
      "outputs": []
    },
    {
      "cell_type": "code",
      "source": [
        "# 지역구분 column 추가\n",
        "eup['지역 구분'] = '읍'\n",
        "myun['지역 구분'] = '면'\n",
        "dong['지역 구분'] = '동'\n",
        "df = pd.concat([eup, myun, dong])"
      ],
      "metadata": {
        "id": "3zWiAfCfsjMO"
      },
      "execution_count": null,
      "outputs": []
    },
    {
      "cell_type": "markdown",
      "source": [
        "##다중 선형 회귀"
      ],
      "metadata": {
        "id": "AtVXwytZsodh"
      }
    },
    {
      "cell_type": "code",
      "source": [
        "from statsmodels.formula.api import ols\n",
        "\n",
        "def log(df):\n",
        "    # 공시지가 na 값 drop 후, na 아닌 데이터만 추출\n",
        "    df=df.reset_index()\n",
        "    df1=df['공시지가'].dropna()\n",
        "    index=df1.index\n",
        "    df=df.loc[index]\n",
        "    df = df.fillna(0)\n",
        "\n",
        "    # 로그 씌워주기\n",
        "    df['log생활지수']=np.log(df['life'])\n",
        "    df['log안전지수']=np.log(df['safety'])\n",
        "    df['log교통지수']=np.log(df['transport'])\n",
        "    df['log건축연한']=np.log(df['사용연도'])\n",
        "    df['건축연한']=df['사용연도']\n",
        "    df['log순전입자수']=np.log(df['순전입자수'])\n",
        "\n",
        "    return df\n",
        "\n",
        "def ourols(df, log=False):\n",
        "    # 회귀 돌려주기\n",
        "    res = ols('공시지가 ~ log생활지수+log안전지수+log교통지수+순전입자수', data=df).fit()\n",
        "        \n",
        "    return res"
      ],
      "metadata": {
        "id": "Kuf8nvBztCre"
      },
      "execution_count": null,
      "outputs": []
    },
    {
      "cell_type": "code",
      "source": [
        "#읍\n",
        "res1 = ourols(log(eup))\n",
        "res1.summary()\n",
        "\n",
        "#면\n",
        "res2 = ourols(log(myun))\n",
        "res2.summary()\n",
        "\n",
        "#동\n",
        "res3 = ourols(log(dong))\n",
        "res3.summary()"
      ],
      "metadata": {
        "id": "qBApOyyvtNLy"
      },
      "execution_count": null,
      "outputs": []
    },
    {
      "cell_type": "markdown",
      "source": [
        "## Oaxaca-Blinder Decomposition"
      ],
      "metadata": {
        "id": "mscEp-3RtqNI"
      }
    },
    {
      "cell_type": "markdown",
      "source": [
        "*   선형회귀계수를 이용해 격차를 세 가지 부분으로 분해해 격차의 발생요인을 설명하는 분석 방법\n",
        "*   가격 격차가 어디서 기인하는지 분석하기 위해 Oaxaca-Blinder 분해법 적용"
      ],
      "metadata": {
        "id": "LtMy6ulStuP8"
      }
    },
    {
      "cell_type": "markdown",
      "source": [
        "전처리"
      ],
      "metadata": {
        "id": "pwqJfrUwt-uT"
      }
    },
    {
      "cell_type": "code",
      "source": [
        "# 읍 X와 y값 지정.\n",
        "X_eup=log(eup)[['log생활지수','log안전지수','log교통지수','순전입자수']]\n",
        "y_eup=log(eup)['공시지가']\n",
        "\n",
        "# 면 X와 y값 지정.\n",
        "X_myun=log(myun)[['log생활지수','log안전지수','log교통지수','순전입자수']]\n",
        "y_myun=log(myun)['공시지가']\n",
        "\n",
        "# 동 X와 y값 지정.\n",
        "X_dong=log(dong)[['log생활지수','log안전지수','log교통지수','순전입자수']]\n",
        "y_dong=log(dong)['공시지가']"
      ],
      "metadata": {
        "id": "YyblM14GttKo"
      },
      "execution_count": null,
      "outputs": []
    },
    {
      "cell_type": "code",
      "source": [
        "# 읍, 면 vs 동 Beta(coefficient)계수 벡터화\n",
        "b_eup = np.asarray(res1.params[1:])\n",
        "b_myun = np.asarray(res2.params[1:])\n",
        "b_dong = np.asarray(res3.params[1:])"
      ],
      "metadata": {
        "id": "4FDS3mmiuCcV"
      },
      "execution_count": null,
      "outputs": []
    },
    {
      "cell_type": "code",
      "source": [
        "# 읍, 면 vs 동 독립변수 mean 벡터화\n",
        "x_eup = np.asarray(X_eup.mean())\n",
        "x_myun = np.asarray(X_myun.mean())\n",
        "x_dong = np.asarray(X_dong.mean())"
      ],
      "metadata": {
        "id": "PedBhXbruCZC"
      },
      "execution_count": null,
      "outputs": []
    },
    {
      "cell_type": "code",
      "source": [
        "print('읍 공시지가 평균: ',y_eup.mean())\n",
        "print('면 공시지가 평균: ',y_myun.mean())\n",
        "print('동 공시지가 평균: ',y_dong.mean())"
      ],
      "metadata": {
        "id": "eWLfIL4HuCWO"
      },
      "execution_count": null,
      "outputs": []
    },
    {
      "cell_type": "markdown",
      "source": [
        "모델링\n",
        "\n",
        "\n",
        "*   Endowments: 설명 변수 차이로 인해 발생하는 격차\n",
        "*   Coefficients: 각 그룹의 회귀 계수 차이로 인해 발생하는 격차\n",
        "*   Interaction: 모델로 설명할 수 없는 부분 (잔차)\n",
        "\n",
        "\n"
      ],
      "metadata": {
        "id": "F5NZVaJMuJPI"
      }
    },
    {
      "cell_type": "code",
      "source": [
        "def oaxaca(x1, x2, b1, b2):\n",
        "    \n",
        "    X=x1-x2\n",
        "    B=b1-b2\n",
        "    \n",
        "    endowments=[]\n",
        "    coefficients=[]\n",
        "    interaction=[]\n",
        "    \n",
        "    for i in range(4):\n",
        "        endowments.append(X[i]*b2[i])\n",
        "        coefficients.append(x2[i]*B[i])\n",
        "        interaction.append(X[i]*B[i])\n",
        "    df = DataFrame()\n",
        "    df['endowments'] = endowments\n",
        "    df['coefficents'] = coefficients\n",
        "    df['interaction'] = interaction\n",
        "    df['variable'] = ['loglife','logsafety','logtransport','순전입자수']\n",
        "    df = df.set_index('variable')\n",
        "    df2 = DataFrame(df.transpose())\n",
        "    df2['sum'] = df.sum()\n",
        "    return df2"
      ],
      "metadata": {
        "id": "hZqSEaRPuCTC"
      },
      "execution_count": null,
      "outputs": []
    },
    {
      "cell_type": "code",
      "source": [
        "oaxaca(x_dong, x_myun, b_dong, b_myun)"
      ],
      "metadata": {
        "id": "7EtsbO6KuCQX"
      },
      "execution_count": null,
      "outputs": []
    },
    {
      "cell_type": "code",
      "source": [
        "oaxaca(x_dong, x_eup, b_dong, b_eup)"
      ],
      "metadata": {
        "id": "oXAtdnOSuCN_"
      },
      "execution_count": null,
      "outputs": []
    }
  ]
}